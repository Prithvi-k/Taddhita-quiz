{
  "nbformat": 4,
  "nbformat_minor": 0,
  "metadata": {
    "colab": {
      "name": "TaddhitaQuiz.ipynb",
      "provenance": [],
      "authorship_tag": "ABX9TyOcCUycmVHP0781brMIt9Aw",
      "include_colab_link": true
    },
    "kernelspec": {
      "name": "python3",
      "display_name": "Python 3"
    },
    "language_info": {
      "name": "python"
    }
  },
  "cells": [
    {
      "cell_type": "markdown",
      "metadata": {
        "id": "view-in-github",
        "colab_type": "text"
      },
      "source": [
        "<a href=\"https://colab.research.google.com/github/Prithvi-k/Taddhita-quiz/blob/main/TaddhitaQuiz.ipynb\" target=\"_parent\"><img src=\"https://colab.research.google.com/assets/colab-badge.svg\" alt=\"Open In Colab\"/></a>"
      ]
    },
    {
      "cell_type": "code",
      "execution_count": 1,
      "metadata": {
        "id": "kcNRINZ9ONqV"
      },
      "outputs": [],
      "source": [
        "import requests, csv, random\n",
        "\n",
        "source_url = 'https://raw.githubusercontent.com/Prithvi-k/Taddhita-quiz/main/taddhita_quiz_wordlist.csv'\n",
        "req = requests.get(source_url)\n",
        "url_content = req.content"
      ]
    },
    {
      "cell_type": "code",
      "source": [
        "# Create a csv file and copy Taddhita word list to it\n",
        "# https://www.kite.com/python/answers/how-to-download-a-csv-file-from-a-url-in-python\n",
        "csv_file = open('taddhita_quiz_wordlist.csv', 'wb')\n",
        "csv_file.write(url_content)\n",
        "csv_file.close()\n",
        "source = \"/content/taddhita_quiz_wordlist.csv\""
      ],
      "metadata": {
        "id": "NgT8pz-EbGU3"
      },
      "execution_count": 2,
      "outputs": []
    },
    {
      "cell_type": "code",
      "source": [
        "# Extracting and sorting rupani into dictionary based on pratayay\n",
        "with open(source, 'r', encoding='utf-8-sig') as csv_file:\n",
        "    csvReader = csv.reader(csv_file, delimiter=',')\n",
        "    line_count = 0\n",
        "    aDict = {}\n",
        "    मतुँप् = []\n",
        "    लच् = []\n",
        "    इलच् = []\n",
        "    for row in csvReader:\n",
        "        if line_count == 0:\n",
        "            line_count += 1\n",
        "        else:\n",
        "            # Take one element of cell in प्रत्ययः column\n",
        "            for col in row[2].split(\", \"):\n",
        "                if col == 'मतुँप्':\n",
        "                    for ele in row[3].split(\", \"):\n",
        "                        if ele not in मतुँप्:\n",
        "                            मतुँप्.append(ele)\n",
        "                elif col == 'लच्':\n",
        "                    for ele in row[4].split(\", \"):\n",
        "                        if ele not in लच्:\n",
        "                            लच्.append(ele)\n",
        "                elif col == 'इलच्':\n",
        "                    for ele in row[5].split(\", \"):\n",
        "                        if ele not in इलच्:\n",
        "                            इलच्.append(ele)\n",
        "    # Check\n",
        "    #print(f\"मतुँप् : {मतुँप्}\\nलच् : {लच्}\\nइलच् : {इलच्}\")\n",
        "\n",
        "    aDict[\"मतुँप्\"] = मतुँप्\n",
        "    aDict[\"लच्\"] = लच्\n",
        "    aDict[\"इलच्\"] = इलच्\n",
        "    # print(aDict)"
      ],
      "metadata": {
        "id": "ZWAt2c9rPysV"
      },
      "execution_count": 3,
      "outputs": []
    },
    {
      "cell_type": "code",
      "source": [
        "# Quiz function\n",
        "def quiz(aDict):\n",
        "    '''\n",
        "    aDict: A dictionary with pratyaya as keys and values as corresponding rupam\n",
        "\n",
        "    Function prints a rupam and user has to input pratyaya.\n",
        "    '''\n",
        "    rounds = int(input(\"Please input number of rounds you want to play: \"))\n",
        "    count = 0\n",
        "    score = 0\n",
        "    notAttempted = 0\n",
        "    while count < rounds:\n",
        "        pratyaya, rupam = random.choice(list(aDict.items()))\n",
        "        answer = input(\n",
        "            f\"\\nQ{count + 1}. Find pratyaya of {random.choice(rupam)} (मतुँप्, लच्, इलच्): \").strip()\n",
        "        if answer == pratyaya:\n",
        "            print(\"Correct!\")\n",
        "            score += 1\n",
        "            print(f\"Your score after question {count + 1} is {score}.\")\n",
        "            #print(\"Your score after round {} is {}.\".format(count + 1, score))\n",
        "            #print(\"Your score after round \" + str(count + 1) + \" is \" + str(score) + \".\")\n",
        "            count += 1\n",
        "        elif answer == \"\":\n",
        "            print(\n",
        "                f\"Not attempted. The answer is {pratyaya}.\\nYour score after question {count + 1} is {score}.\")\n",
        "            count += 1\n",
        "            notAttempted += 1\n",
        "        elif answer != pratyaya and answer == \"मतुँप्\" or answer == \"लच्\" or answer == \"इलच्\":\n",
        "            print(\n",
        "                f\"Wrong answer. The answer is {pratyaya}.\\nYour score after question {count + 1} is {score}.\")\n",
        "            count += 1\n",
        "        else:\n",
        "            print(\"Incorrect input. Please input only मतुँप् / लच् / इलच्\")\n",
        "    print(\n",
        "        f\"\\n\\n------------------------------\\n          Game Over!\\n------------------------------\\nQuestions attempted : {rounds - notAttempted}\\nQuestions not attempted : {notAttempted}\\nScore : {score}\\nCorrect attempts : {score}\\nWrong attempts : {rounds - score}\\n------------------------------\")"
      ],
      "metadata": {
        "id": "jYtymnrtZvkc"
      },
      "execution_count": 4,
      "outputs": []
    },
    {
      "cell_type": "code",
      "source": [
        "#Play quiz\n",
        "quiz(aDict)"
      ],
      "metadata": {
        "colab": {
          "base_uri": "https://localhost:8080/"
        },
        "collapsed": true,
        "id": "hsqlSiqUZx_i",
        "outputId": "59d25b8d-d9d9-438d-f626-4ed1c7401efd"
      },
      "execution_count": 5,
      "outputs": [
        {
          "output_type": "stream",
          "name": "stdout",
          "text": [
            "Please input number of rounds you want to play: 4\n",
            "\n",
            "Q1. Find pratyaya of चूडाल (मतुँप्, लच्, इलच्): लच्\n",
            "Correct!\n",
            "Your score after question 1 is 1.\n",
            "\n",
            "Q2. Find pratyaya of चूडाल (मतुँप्, लच्, इलच्): इलच्\n",
            "Wrong answer. The answer is लच्.\n",
            "Your score after question 2 is 1.\n",
            "\n",
            "Q3. Find pratyaya of सिध्मवत् (मतुँप्, लच्, इलच्): लच्\n",
            "Wrong answer. The answer is मतुँप्.\n",
            "Your score after question 3 is 1.\n",
            "\n",
            "Q4. Find pratyaya of रसवत् (मतुँप्, लच्, इलच्): मतुँप्\n",
            "Correct!\n",
            "Your score after question 4 is 2.\n",
            "\n",
            "\n",
            "------------------------------\n",
            "          Game Over!\n",
            "------------------------------\n",
            "Questions attempted : 4\n",
            "Questions not attempted : 0\n",
            "Score : 2\n",
            "Correct attempts : 2\n",
            "Wrong attempts : 2\n",
            "------------------------------\n"
          ]
        }
      ]
    }
  ]
}